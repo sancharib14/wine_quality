{
 "cells": [
  {
   "cell_type": "markdown",
   "metadata": {},
   "source": [
    "## Prediction of quality using supervised learning\n",
    "\n",
    "### The dataset gives a set of white wine data with physicochemical (inputs) and sensory (output) variables. This dataset can be viewed as classification or regression tasks. The classes are ordered and not balanced.\n",
    "\n",
    "### In order to analyse the data, we build a simple classification model using Keras API running on top of TensorFlow."
   ]
  },
  {
   "cell_type": "code",
   "execution_count": 40,
   "metadata": {},
   "outputs": [],
   "source": [
    "from sklearn.metrics import confusion_matrix, precision_score\n",
    "from sklearn.model_selection import train_test_split\n",
    "from keras.layers import Dense,Dropout\n",
    "from keras.models import Sequential\n",
    "from keras.regularizers import l2\n",
    "import matplotlib.pyplot as plt\n",
    "import pandas as pd\n",
    "import numpy as np"
   ]
  },
  {
   "cell_type": "code",
   "execution_count": 41,
   "metadata": {},
   "outputs": [],
   "source": [
    "data = pd.read_csv('data/winequality-white.csv', delimiter=';')"
   ]
  },
  {
   "cell_type": "code",
   "execution_count": 42,
   "metadata": {},
   "outputs": [],
   "source": [
    "data.head()\n",
    "\n",
    "x = data.drop(columns=['quality'])\n",
    "y = data['quality']\n",
    "y=pd.get_dummies(pd.Series(y))"
   ]
  },
  {
   "cell_type": "markdown",
   "metadata": {},
   "source": [
    "### The input features and output has been separated into x & y variables. By a validation set, the model is tuned by checking if the model is underfit, overfit or well generalised"
   ]
  },
  {
   "cell_type": "code",
   "execution_count": 43,
   "metadata": {},
   "outputs": [],
   "source": [
    "x_train, x_test, y_train, y_test = train_test_split(x,y, test_size=0.30, random_state=0)"
   ]
  },
  {
   "cell_type": "code",
   "execution_count": 44,
   "metadata": {},
   "outputs": [
    {
     "data": {
      "text/plain": [
       "((3428, 11), (3428, 7), (1470, 11), (1470, 7))"
      ]
     },
     "execution_count": 44,
     "metadata": {},
     "output_type": "execute_result"
    }
   ],
   "source": [
    "x_train.shape,y_train.shape,x_test.shape,y_test.shape"
   ]
  },
  {
   "cell_type": "markdown",
   "metadata": {},
   "source": [
    "### A Sequential model is built, which is a linear stack of layers. This model is created by passing a list of layer instances to the constructor one at a time."
   ]
  },
  {
   "cell_type": "code",
   "execution_count": 45,
   "metadata": {},
   "outputs": [],
   "source": [
    "model = Sequential()"
   ]
  },
  {
   "cell_type": "markdown",
   "metadata": {},
   "source": [
    "### A fully-connected structure with 3 layers including 2 hidden layers with 100 nodes each and 1 output layer with a single node is used. Fully connected layers are defined using the Dense class. The number of layers and number of nodes are chosen to be large enough to capture the trends/structure of the data. Since this is a binary classification, relu is used for the hidden layer and softmax is used for the output layer.¶"
   ]
  },
  {
   "cell_type": "code",
   "execution_count": 46,
   "metadata": {},
   "outputs": [],
   "source": [
    "model.add(Dense(100,activation='relu',input_dim=11,kernel_regularizer=l2(0.01)))\n",
    "model.add(Dropout(0.3, noise_shape=None, seed=None))"
   ]
  },
  {
   "cell_type": "code",
   "execution_count": 47,
   "metadata": {},
   "outputs": [],
   "source": [
    "model.add(Dense(100,activation = 'relu',kernel_regularizer=l2(0.01)))\n",
    "model.add(Dropout(0.3, noise_shape=None, seed=None))"
   ]
  },
  {
   "cell_type": "code",
   "execution_count": 48,
   "metadata": {},
   "outputs": [],
   "source": [
    "model.add(Dense(7,activation='softmax'))"
   ]
  },
  {
   "cell_type": "markdown",
   "metadata": {},
   "source": [
    "### Loss function is to be mentioned. Here 'binary_crossentropy', which is negative log-Loss is used as the loss_function. For training the model, ‘Adam’ (Adaptive Moment Estimation) optimizer has been used since Adam adopts the learning rate as the training progresses (adaptive learning rates) and converges fast.¶"
   ]
  },
  {
   "cell_type": "code",
   "execution_count": 49,
   "metadata": {},
   "outputs": [],
   "source": [
    "model.compile(loss='binary_crossentropy',optimizer='adam',metrics=['accuracy'])"
   ]
  },
  {
   "cell_type": "markdown",
   "metadata": {},
   "source": [
    "### The trainable parameter details of the model are given below. The first layer has 1200 parameters and the second layer has 10100 parameters. The total number of trainable parameters is 12007."
   ]
  },
  {
   "cell_type": "code",
   "execution_count": 50,
   "metadata": {},
   "outputs": [
    {
     "name": "stdout",
     "output_type": "stream",
     "text": [
      "_________________________________________________________________\n",
      "Layer (type)                 Output Shape              Param #   \n",
      "=================================================================\n",
      "dense_8 (Dense)              (None, 100)               1200      \n",
      "_________________________________________________________________\n",
      "dropout_5 (Dropout)          (None, 100)               0         \n",
      "_________________________________________________________________\n",
      "dense_9 (Dense)              (None, 100)               10100     \n",
      "_________________________________________________________________\n",
      "dropout_6 (Dropout)          (None, 100)               0         \n",
      "_________________________________________________________________\n",
      "dense_10 (Dense)             (None, 7)                 707       \n",
      "=================================================================\n",
      "Total params: 12,007\n",
      "Trainable params: 12,007\n",
      "Non-trainable params: 0\n",
      "_________________________________________________________________\n"
     ]
    }
   ],
   "source": [
    "model.summary()"
   ]
  },
  {
   "cell_type": "markdown",
   "metadata": {},
   "source": [
    "### Fit method is used to train the model with the training set (x_train,y_train). Verbose is set to 1 to turn off the log output from each epoch. The number of epochs is set to 15. Batch size is set depending on the amount of data, and it determines the number of training examples utilized in one iteration."
   ]
  },
  {
   "cell_type": "code",
   "execution_count": 51,
   "metadata": {},
   "outputs": [
    {
     "name": "stdout",
     "output_type": "stream",
     "text": [
      "Train on 3428 samples, validate on 1470 samples\n",
      "Epoch 1/15\n",
      "3428/3428 [==============================] - 1s 336us/step - loss: 1.9475 - acc: 0.8108 - val_loss: 0.7386 - val_acc: 0.8573\n",
      "Epoch 2/15\n",
      "3428/3428 [==============================] - 0s 121us/step - loss: 0.7500 - acc: 0.8441 - val_loss: 0.6472 - val_acc: 0.8571\n",
      "Epoch 3/15\n",
      "3428/3428 [==============================] - 0s 122us/step - loss: 0.6226 - acc: 0.8505 - val_loss: 0.5787 - val_acc: 0.8571\n",
      "Epoch 4/15\n",
      "3428/3428 [==============================] - 0s 122us/step - loss: 0.5585 - acc: 0.8536 - val_loss: 0.5272 - val_acc: 0.8569\n",
      "Epoch 5/15\n",
      "3428/3428 [==============================] - 0s 122us/step - loss: 0.5077 - acc: 0.8550 - val_loss: 0.4815 - val_acc: 0.8569\n",
      "Epoch 6/15\n",
      "3428/3428 [==============================] - 0s 122us/step - loss: 0.4685 - acc: 0.8553 - val_loss: 0.4463 - val_acc: 0.8571\n",
      "Epoch 7/15\n",
      "3428/3428 [==============================] - 0s 124us/step - loss: 0.4330 - acc: 0.8546 - val_loss: 0.4171 - val_acc: 0.8566\n",
      "Epoch 8/15\n",
      "3428/3428 [==============================] - 0s 123us/step - loss: 0.4062 - acc: 0.8540 - val_loss: 0.3939 - val_acc: 0.8566\n",
      "Epoch 9/15\n",
      "3428/3428 [==============================] - 0s 122us/step - loss: 0.3851 - acc: 0.8546 - val_loss: 0.3769 - val_acc: 0.8538\n",
      "Epoch 10/15\n",
      "3428/3428 [==============================] - 0s 124us/step - loss: 0.3669 - acc: 0.8556 - val_loss: 0.3606 - val_acc: 0.8566\n",
      "Epoch 11/15\n",
      "3428/3428 [==============================] - 0s 122us/step - loss: 0.3526 - acc: 0.8558 - val_loss: 0.3478 - val_acc: 0.8564\n",
      "Epoch 12/15\n",
      "3428/3428 [==============================] - 0s 122us/step - loss: 0.3394 - acc: 0.8566 - val_loss: 0.3375 - val_acc: 0.8571\n",
      "Epoch 13/15\n",
      "3428/3428 [==============================] - 0s 122us/step - loss: 0.3320 - acc: 0.8559 - val_loss: 0.3288 - val_acc: 0.8571\n",
      "Epoch 14/15\n",
      "3428/3428 [==============================] - 0s 123us/step - loss: 0.3239 - acc: 0.8556 - val_loss: 0.3236 - val_acc: 0.8571\n",
      "Epoch 15/15\n",
      "3428/3428 [==============================] - 0s 124us/step - loss: 0.3191 - acc: 0.8552 - val_loss: 0.3195 - val_acc: 0.8571\n"
     ]
    }
   ],
   "source": [
    "model_output = model.fit(x_train,y_train,epochs=15,batch_size=20,verbose=1,validation_data=(x_test,y_test),)"
   ]
  },
  {
   "cell_type": "markdown",
   "metadata": {},
   "source": [
    "### The model training and validation accuracy are shown below. The training accuracy from the last epoch is around 85.52 and validation accuracy is 85.71. Average training accuracy over all the epochs is around 85.11% and average validation accuracy is 85.67%."
   ]
  },
  {
   "cell_type": "code",
   "execution_count": 52,
   "metadata": {},
   "outputs": [
    {
     "name": "stdout",
     "output_type": "stream",
     "text": [
      "Training Accuracy :  0.8511363073992201\n",
      "Validation Accuracy :  0.8567346528273861\n"
     ]
    }
   ],
   "source": [
    "print('Training Accuracy : ' , np.mean(model_output.history[\"acc\"]))\n",
    "print('Validation Accuracy : ' , np.mean(model_output.history[\"val_acc\"]))"
   ]
  },
  {
   "cell_type": "code",
   "execution_count": 53,
   "metadata": {},
   "outputs": [
    {
     "data": {
      "image/png": "[encoded data removed]",
      "text/plain": [
       "<Figure size 432x288 with 1 Axes>"
      ]
     },
     "metadata": {
      "needs_background": "light"
     },
     "output_type": "display_data"
    }
   ],
   "source": [
    "plt.plot(model_output.history['acc'])\n",
    "plt.plot(model_output.history['val_acc'])\n",
    "plt.title('Model accuracy')\n",
    "plt.ylabel('Accuracy')\n",
    "plt.xlabel('Epoch')\n",
    "plt.legend(['Train', 'Test'], loc='upper left')\n",
    "plt.show()"
   ]
  },
  {
   "cell_type": "code",
   "execution_count": 54,
   "metadata": {},
   "outputs": [
    {
     "data": {
      "image/png": "[encoded data removed]",
      "text/plain": [
       "<Figure size 432x288 with 1 Axes>"
      ]
     },
     "metadata": {
      "needs_background": "light"
     },
     "output_type": "display_data"
    }
   ],
   "source": [
    "plt.plot(model_output.history['loss'])\n",
    "plt.plot(model_output.history['val_loss'])\n",
    "plt.title('model_output loss')\n",
    "plt.ylabel('Loss')\n",
    "plt.xlabel('Epoch')\n",
    "plt.legend(['Train', 'Test'], loc='upper left')\n",
    "plt.show()"
   ]
  }
 ],
 "metadata": {
  "kernelspec": {
   "display_name": "Python 3",
   "language": "python",
   "name": "python3"
  },
  "language_info": {
   "codemirror_mode": {
    "name": "ipython",
    "version": 3
   },
   "file_extension": ".py",
   "mimetype": "text/x-python",
   "name": "python",
   "nbconvert_exporter": "python",
   "pygments_lexer": "ipython3",
   "version": "3.7.2"
  }
 },
 "nbformat": 4,
 "nbformat_minor": 2
}
