{
 "cells": [
  {
   "cell_type": "markdown",
   "metadata": {},
   "source": [
    "## Prediction of quality using unsupervised learning\n",
    "\n",
    "### The dataset gives a set of red wine data with physicochemical (inputs) and sensory (output) variables. This datatset can be generally viewed as a classification task. The classes are ordered and not balanced.\n",
    "### An unsupervised machine learning approach is used in order to analyse the data. Without the labels been provided, K-Means is used to understand the data through clustering methods."
   ]
  },
  {
   "cell_type": "code",
   "execution_count": 102,
   "metadata": {},
   "outputs": [],
   "source": [
    "from sklearn.metrics import confusion_matrix, accuracy_score\n",
    "from sklearn.model_selection import train_test_split\n",
    "from sklearn.cluster import KMeans\n",
    "from keras.layers import Dense,Dropout\n",
    "from keras.models import Sequential\n",
    "from keras.regularizers import l2\n",
    "import matplotlib.pyplot as plt\n",
    "import pylab as pl\n",
    "import pandas as pd\n",
    "import numpy as np"
   ]
  },
  {
   "cell_type": "markdown",
   "metadata": {},
   "source": [
    "### The data is read from the file and the output parameter (quality) is dropped from the file."
   ]
  },
  {
   "cell_type": "code",
   "execution_count": 103,
   "metadata": {},
   "outputs": [],
   "source": [
    "data = pd.read_csv('data/winequality-red.csv', delimiter=';')"
   ]
  },
  {
   "cell_type": "code",
   "execution_count": 104,
   "metadata": {},
   "outputs": [
    {
     "name": "stdout",
     "output_type": "stream",
     "text": [
      "   3  4  5  6  7  8\n",
      "0  0  0  1  0  0  0\n",
      "1  0  0  1  0  0  0\n",
      "2  0  0  1  0  0  0\n",
      "3  0  0  0  1  0  0\n",
      "4  0  0  1  0  0  0\n"
     ]
    }
   ],
   "source": [
    "data.head()\n",
    "\n",
    "x = data.drop(columns=['quality'])\n",
    "y = data['quality']\n",
    "y=pd.get_dummies(pd.Series(y))\n",
    "print(y[0:5])"
   ]
  },
  {
   "cell_type": "markdown",
   "metadata": {},
   "source": [
    "### The value of K is chosen from by plotting the elbow curve. K is taken as the point where the curve doesn't show a major change. The value of K gives the number of clusters to form and the number of centroids to generate."
   ]
  },
  {
   "cell_type": "code",
   "execution_count": 105,
   "metadata": {},
   "outputs": [
    {
     "data": {
      "text/plain": [
       "[KMeans(algorithm='auto', copy_x=True, init='k-means++', max_iter=300,\n",
       "     n_clusters=2, n_init=10, n_jobs=None, precompute_distances='auto',\n",
       "     random_state=None, tol=0.0001, verbose=0),\n",
       " KMeans(algorithm='auto', copy_x=True, init='k-means++', max_iter=300,\n",
       "     n_clusters=3, n_init=10, n_jobs=None, precompute_distances='auto',\n",
       "     random_state=None, tol=0.0001, verbose=0),\n",
       " KMeans(algorithm='auto', copy_x=True, init='k-means++', max_iter=300,\n",
       "     n_clusters=4, n_init=10, n_jobs=None, precompute_distances='auto',\n",
       "     random_state=None, tol=0.0001, verbose=0),\n",
       " KMeans(algorithm='auto', copy_x=True, init='k-means++', max_iter=300,\n",
       "     n_clusters=5, n_init=10, n_jobs=None, precompute_distances='auto',\n",
       "     random_state=None, tol=0.0001, verbose=0),\n",
       " KMeans(algorithm='auto', copy_x=True, init='k-means++', max_iter=300,\n",
       "     n_clusters=6, n_init=10, n_jobs=None, precompute_distances='auto',\n",
       "     random_state=None, tol=0.0001, verbose=0),\n",
       " KMeans(algorithm='auto', copy_x=True, init='k-means++', max_iter=300,\n",
       "     n_clusters=7, n_init=10, n_jobs=None, precompute_distances='auto',\n",
       "     random_state=None, tol=0.0001, verbose=0)]"
      ]
     },
     "execution_count": 105,
     "metadata": {},
     "output_type": "execute_result"
    }
   ],
   "source": [
    "Nc = range(2, 8)\n",
    "\n",
    "kmeans = [KMeans(n_clusters=i) for i in Nc]\n",
    "\n",
    "kmeans"
   ]
  },
  {
   "cell_type": "code",
   "execution_count": 106,
   "metadata": {},
   "outputs": [
    {
     "name": "stderr",
     "output_type": "stream",
     "text": [
      "/usr/local/lib/python3.7/site-packages/sklearn/cluster/k_means_.py:971: ConvergenceWarning: Number of distinct clusters (6) found smaller than n_clusters (7). Possibly due to duplicate points in X.\n",
      "  return_n_iter=True)\n"
     ]
    },
    {
     "data": {
      "image/png": "[encoded data removed]",
      "text/plain": [
       "<Figure size 432x288 with 1 Axes>"
      ]
     },
     "metadata": {
      "needs_background": "light"
     },
     "output_type": "display_data"
    }
   ],
   "source": [
    "score = [kmeans[i].fit(y).score(y) for i in range(len(kmeans))]\n",
    "\n",
    "pl.plot(Nc,score)\n",
    "\n",
    "pl.xlabel('Number of Clusters')\n",
    "\n",
    "pl.ylabel('Score')\n",
    "\n",
    "pl.title('Elbow Curve')\n",
    "\n",
    "pl.show()"
   ]
  },
  {
   "cell_type": "markdown",
   "metadata": {},
   "source": [
    "### The features have been separated into x & y variables by splitting. By a validation set, the model is tuned by checking if the model is underfit, overfit or well generalised."
   ]
  },
  {
   "cell_type": "code",
   "execution_count": 107,
   "metadata": {},
   "outputs": [],
   "source": [
    "x_train, x_test, y_train, y_test = train_test_split(x,y, test_size=0.20, random_state=0)"
   ]
  },
  {
   "cell_type": "code",
   "execution_count": 108,
   "metadata": {},
   "outputs": [
    {
     "data": {
      "text/plain": [
       "array([[9.9000e+00, 5.4000e-01, 4.5000e-01, 2.3000e+00, 7.1000e-02,\n",
       "        1.6000e+01, 4.0000e+01, 9.9910e-01, 3.3900e+00, 6.2000e-01,\n",
       "        9.4000e+00],\n",
       "       [1.0800e+01, 2.6000e-01, 4.5000e-01, 3.3000e+00, 6.0000e-02,\n",
       "        2.0000e+01, 4.9000e+01, 9.9720e-01, 3.1300e+00, 5.4000e-01,\n",
       "        9.6000e+00],\n",
       "       [9.9000e+00, 3.5000e-01, 5.5000e-01, 2.1000e+00, 6.2000e-02,\n",
       "        5.0000e+00, 1.4000e+01, 9.9710e-01, 3.2600e+00, 7.9000e-01,\n",
       "        1.0600e+01],\n",
       "       [5.6000e+00, 8.5000e-01, 5.0000e-02, 1.4000e+00, 4.5000e-02,\n",
       "        1.2000e+01, 8.8000e+01, 9.9240e-01, 3.5600e+00, 8.2000e-01,\n",
       "        1.2900e+01],\n",
       "       [6.6000e+00, 7.2500e-01, 9.0000e-02, 5.5000e+00, 1.1700e-01,\n",
       "        9.0000e+00, 1.7000e+01, 9.9655e-01, 3.3500e+00, 4.9000e-01,\n",
       "        1.0800e+01]])"
      ]
     },
     "execution_count": 108,
     "metadata": {},
     "output_type": "execute_result"
    }
   ],
   "source": [
    "x_train.shape,y_train.shape,x_test.shape,y_test.shape\n",
    "\n",
    "x_train=x_train.values\n",
    "x_train[:5]"
   ]
  },
  {
   "cell_type": "code",
   "execution_count": 109,
   "metadata": {},
   "outputs": [],
   "source": [
    "kmeans = KMeans(n_clusters=6, random_state=0).fit(x_train)"
   ]
  },
  {
   "cell_type": "code",
   "execution_count": 110,
   "metadata": {},
   "outputs": [
    {
     "data": {
      "text/plain": [
       "array([0, 0, 2, ..., 5, 0, 1], dtype=int32)"
      ]
     },
     "execution_count": 110,
     "metadata": {},
     "output_type": "execute_result"
    }
   ],
   "source": [
    "labels = kmeans.labels_\n",
    "\n",
    "labels"
   ]
  },
  {
   "cell_type": "markdown",
   "metadata": {},
   "source": [
    "### The closest cluster in which each sample in x belongs to is given by 'predict' below."
   ]
  },
  {
   "cell_type": "code",
   "execution_count": 111,
   "metadata": {},
   "outputs": [
    {
     "data": {
      "text/plain": [
       "array([3], dtype=int32)"
      ]
     },
     "execution_count": 111,
     "metadata": {},
     "output_type": "execute_result"
    }
   ],
   "source": [
    "x=x_test.values[0]\n",
    "x_pred = kmeans.predict([x])\n",
    "\n",
    "x_pred"
   ]
  },
  {
   "cell_type": "markdown",
   "metadata": {},
   "source": [
    "### Fit method is used to train the model with the training set and compute K-Means clustering. Fit_predict is used to find cluster centers and predict cluster index for each sample given above."
   ]
  },
  {
   "cell_type": "code",
   "execution_count": 114,
   "metadata": {},
   "outputs": [],
   "source": [
    "# accuracy_score(y, y_kmeans)"
   ]
  },
  {
   "cell_type": "code",
   "execution_count": 112,
   "metadata": {},
   "outputs": [
    {
     "data": {
      "text/plain": [
       "-142640.57226375208"
      ]
     },
     "execution_count": 112,
     "metadata": {},
     "output_type": "execute_result"
    }
   ],
   "source": [
    "kmeans.score(x_train, y=None)"
   ]
  },
  {
   "cell_type": "code",
   "execution_count": 113,
   "metadata": {},
   "outputs": [
    {
     "data": {
      "text/plain": [
       "array([0, 0, 2, ..., 5, 0, 1], dtype=int32)"
      ]
     },
     "execution_count": 113,
     "metadata": {},
     "output_type": "execute_result"
    }
   ],
   "source": [
    "y_kmeans = kmeans.fit_predict(x_train)\n",
    "\n",
    "y_kmeans"
   ]
  },
  {
   "cell_type": "markdown",
   "metadata": {},
   "source": [
    "### Here, it is considered that since k-means is not a classification tool, thus analyzing accuracy is not a very good idea. K-Means clustering here is employed to find a grouping of data which maximizes between-clusters distances, and it does not use the labeling to train. It can be seen that the clustering algorithm demonstrates an overall positive correlation between the attributes of density, alcohol, sulfur dioxide with the quality index. It can be also noted that, this dataset can be effectively modelled through a classification analysis, there might be instances where relationships between data parameters will not be linear and K-Means can serve as a valuable tool in understanding the data through clustering methods."
   ]
  }
 ],
 "metadata": {
  "kernelspec": {
   "display_name": "Python 3",
   "language": "python",
   "name": "python3"
  },
  "language_info": {
   "codemirror_mode": {
    "name": "ipython",
    "version": 3
   },
   "file_extension": ".py",
   "mimetype": "text/x-python",
   "name": "python",
   "nbconvert_exporter": "python",
   "pygments_lexer": "ipython3",
   "version": "3.7.2"
  }
 },
 "nbformat": 4,
 "nbformat_minor": 2
}
