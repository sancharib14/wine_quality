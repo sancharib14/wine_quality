{
 "cells": [
  {
   "cell_type": "markdown",
   "metadata": {},
   "source": [
    "## Prediction of quality using supervised learning\n",
    "\n",
    "### The dataset gives a set of red wine data with physicochemical (inputs) and sensory (output) variables. This dataset can be viewed as classification or regression tasks. The classes are ordered and not balanced\n",
    "\n",
    "### In order to analyse the data, a simple classification model is built using Keras API running on top of TensorFlow."
   ]
  },
  {
   "cell_type": "code",
   "execution_count": 2,
   "metadata": {},
   "outputs": [
    {
     "name": "stderr",
     "output_type": "stream",
     "text": [
      "Using TensorFlow backend.\n"
     ]
    }
   ],
   "source": [
    "from sklearn.metrics import confusion_matrix, precision_score\n",
    "from sklearn.model_selection import train_test_split\n",
    "from keras.layers import Dense,Dropout\n",
    "from keras.models import Sequential\n",
    "from keras.regularizers import l2\n",
    "import matplotlib.pyplot as plt\n",
    "import pandas as pd\n",
    "import numpy as np"
   ]
  },
  {
   "cell_type": "code",
   "execution_count": 3,
   "metadata": {},
   "outputs": [],
   "source": [
    "data = pd.read_csv('data/winequality-red.csv', delimiter=';')"
   ]
  },
  {
   "cell_type": "code",
   "execution_count": 4,
   "metadata": {},
   "outputs": [],
   "source": [
    "data.head()\n",
    "\n",
    "x = data.drop(columns=['quality'])\n",
    "y = data['quality']\n",
    "y=pd.get_dummies(pd.Series(y))"
   ]
  },
  {
   "cell_type": "markdown",
   "metadata": {},
   "source": [
    "### The input features and output has been separated into x & y variables. By a validation set, the model is tuned by checking if the model is underfit, overfit or well generalised."
   ]
  },
  {
   "cell_type": "code",
   "execution_count": 5,
   "metadata": {},
   "outputs": [],
   "source": [
    "x_train, x_test, y_train, y_test = train_test_split(x,y, test_size=0.20, random_state=0)"
   ]
  },
  {
   "cell_type": "code",
   "execution_count": 6,
   "metadata": {},
   "outputs": [
    {
     "data": {
      "text/plain": [
       "((1279, 11), (1279, 6), (320, 11), (320, 6))"
      ]
     },
     "execution_count": 6,
     "metadata": {},
     "output_type": "execute_result"
    }
   ],
   "source": [
    "x_train.shape,y_train.shape,x_test.shape,y_test.shape"
   ]
  },
  {
   "cell_type": "markdown",
   "metadata": {},
   "source": [
    "###  A Sequential model is built, which is a linear stack of layers. This model is created by passing a list of layer instances to the constructor one at a time."
   ]
  },
  {
   "cell_type": "code",
   "execution_count": 7,
   "metadata": {},
   "outputs": [],
   "source": [
    "model = Sequential()"
   ]
  },
  {
   "cell_type": "markdown",
   "metadata": {},
   "source": [
    "### A fully-connected structure with 3 layers including 2 hidden layers with 100 nodes each and 1 output layer with a single node is used. Fully connected layers are defined using the Dense class. The number of layers and number of nodes are chosen to be large enough to capture the trends/structure of the data. Since this is a binary classification, relu is used for the hidden layer and softmax is used for the output layer."
   ]
  },
  {
   "cell_type": "code",
   "execution_count": 8,
   "metadata": {},
   "outputs": [
    {
     "name": "stdout",
     "output_type": "stream",
     "text": [
      "WARNING:tensorflow:From /usr/local/lib/python3.7/site-packages/tensorflow/python/framework/op_def_library.py:263: colocate_with (from tensorflow.python.framework.ops) is deprecated and will be removed in a future version.\n",
      "Instructions for updating:\n",
      "Colocations handled automatically by placer.\n",
      "WARNING:tensorflow:From /usr/local/lib/python3.7/site-packages/keras/backend/tensorflow_backend.py:3445: calling dropout (from tensorflow.python.ops.nn_ops) with keep_prob is deprecated and will be removed in a future version.\n",
      "Instructions for updating:\n",
      "Please use `rate` instead of `keep_prob`. Rate should be set to `rate = 1 - keep_prob`.\n"
     ]
    }
   ],
   "source": [
    "model.add(Dense(100,activation='relu',input_dim=11,kernel_regularizer=l2(0.01)))\n",
    "model.add(Dropout(0.3, noise_shape=None, seed=None))\n",
    "\n",
    "model.add(Dense(100,activation = 'relu',kernel_regularizer=l2(0.01)))\n",
    "model.add(Dropout(0.3, noise_shape=None, seed=None))\n",
    "\n",
    "model.add(Dense(6,activation='softmax'))"
   ]
  },
  {
   "cell_type": "markdown",
   "metadata": {},
   "source": [
    "### Here 'binary_crossentropy', which is negative log-Loss is used as the loss_function. For training the model, ‘Adam’ (Adaptive Moment Estimation) optimizer has been used since Adam adopts the learning rate as the training progresses (adaptive learning rates) and converges fast."
   ]
  },
  {
   "cell_type": "code",
   "execution_count": 19,
   "metadata": {},
   "outputs": [],
   "source": [
    "model.compile(loss='binary_crossentropy',optimizer='adam',metrics=['accuracy'])"
   ]
  },
  {
   "cell_type": "markdown",
   "metadata": {},
   "source": [
    "### The trainable parameter details of the model are given below. The first layer has 1200 parameters and the second layer has 10100 parameters. The total number of trainable parameters is 11906."
   ]
  },
  {
   "cell_type": "code",
   "execution_count": 20,
   "metadata": {},
   "outputs": [
    {
     "name": "stdout",
     "output_type": "stream",
     "text": [
      "_________________________________________________________________\n",
      "Layer (type)                 Output Shape              Param #   \n",
      "=================================================================\n",
      "dense_1 (Dense)              (None, 100)               1200      \n",
      "_________________________________________________________________\n",
      "dropout_1 (Dropout)          (None, 100)               0         \n",
      "_________________________________________________________________\n",
      "dense_2 (Dense)              (None, 100)               10100     \n",
      "_________________________________________________________________\n",
      "dropout_2 (Dropout)          (None, 100)               0         \n",
      "_________________________________________________________________\n",
      "dense_3 (Dense)              (None, 6)                 606       \n",
      "=================================================================\n",
      "Total params: 11,906\n",
      "Trainable params: 11,906\n",
      "Non-trainable params: 0\n",
      "_________________________________________________________________\n"
     ]
    }
   ],
   "source": [
    "model.summary()"
   ]
  },
  {
   "cell_type": "markdown",
   "metadata": {},
   "source": [
    "### Fit method is used to train the model with the training set (x_train,y_train). Verbose is set to 1 to turn off the log output from each epoch. The number of epochs is set to 10. Batch size is set depending on the amount of data, and it determines the number of training examples utilized in one iteration."
   ]
  },
  {
   "cell_type": "code",
   "execution_count": 21,
   "metadata": {},
   "outputs": [
    {
     "name": "stdout",
     "output_type": "stream",
     "text": [
      "Train on 1279 samples, validate on 320 samples\n",
      "Epoch 1/10\n",
      "1279/1279 [==============================] - 1s 548us/step - loss: 0.3664 - acc: 0.8436 - val_loss: 0.3442 - val_acc: 0.8437\n",
      "Epoch 2/10\n",
      "1279/1279 [==============================] - 0s 128us/step - loss: 0.3536 - acc: 0.8445 - val_loss: 0.3368 - val_acc: 0.8401\n",
      "Epoch 3/10\n",
      "1279/1279 [==============================] - 0s 120us/step - loss: 0.3462 - acc: 0.8436 - val_loss: 0.3333 - val_acc: 0.8427\n",
      "Epoch 4/10\n",
      "1279/1279 [==============================] - 0s 120us/step - loss: 0.3417 - acc: 0.8451 - val_loss: 0.3204 - val_acc: 0.8479\n",
      "Epoch 5/10\n",
      "1279/1279 [==============================] - 0s 117us/step - loss: 0.3362 - acc: 0.8445 - val_loss: 0.3188 - val_acc: 0.8474\n",
      "Epoch 6/10\n",
      "1279/1279 [==============================] - 0s 118us/step - loss: 0.3365 - acc: 0.8462 - val_loss: 0.3185 - val_acc: 0.8437\n",
      "Epoch 7/10\n",
      "1279/1279 [==============================] - 0s 116us/step - loss: 0.3345 - acc: 0.8445 - val_loss: 0.3146 - val_acc: 0.8422\n",
      "Epoch 8/10\n",
      "1279/1279 [==============================] - 0s 117us/step - loss: 0.3309 - acc: 0.8460 - val_loss: 0.3152 - val_acc: 0.8453\n",
      "Epoch 9/10\n",
      "1279/1279 [==============================] - 0s 117us/step - loss: 0.3306 - acc: 0.8460 - val_loss: 0.3112 - val_acc: 0.8490\n",
      "Epoch 10/10\n",
      "1279/1279 [==============================] - 0s 121us/step - loss: 0.3274 - acc: 0.8444 - val_loss: 0.3168 - val_acc: 0.8443\n"
     ]
    }
   ],
   "source": [
    "model_output = model.fit(x_train,y_train,epochs=10,batch_size=20,verbose=1,validation_data=(x_test,y_test),)"
   ]
  },
  {
   "cell_type": "markdown",
   "metadata": {},
   "source": [
    "### The model training and validation accuracy are shown below. The training accuracy from the last epoch is around 84.44 and validation accuracy is 84.43. Average training accuracy over all the epochs is around 84.48% and average validation accuracy is 84.46%."
   ]
  },
  {
   "cell_type": "code",
   "execution_count": 22,
   "metadata": {},
   "outputs": [
    {
     "name": "stdout",
     "output_type": "stream",
     "text": [
      "Training Accuracy :  0.8448527350474186\n",
      "Validation Accuracy :  0.8446354109793901\n"
     ]
    }
   ],
   "source": [
    "print('Training Accuracy : ' , np.mean(model_output.history[\"acc\"]))\n",
    "print('Validation Accuracy : ' , np.mean(model_output.history[\"val_acc\"]))"
   ]
  },
  {
   "cell_type": "code",
   "execution_count": 13,
   "metadata": {},
   "outputs": [
    {
     "data": {
      "image/png": "[encoded data removed]",
      "text/plain": [
       "<Figure size 432x288 with 1 Axes>"
      ]
     },
     "metadata": {
      "needs_background": "light"
     },
     "output_type": "display_data"
    }
   ],
   "source": [
    "plt.plot(model_output.history['acc'])\n",
    "plt.plot(model_output.history['val_acc'])\n",
    "plt.title('Model accuracy')\n",
    "plt.ylabel('Accuracy')\n",
    "plt.xlabel('Epoch')\n",
    "plt.legend(['Train', 'Test'], loc='upper left')\n",
    "plt.show()"
   ]
  },
  {
   "cell_type": "code",
   "execution_count": 14,
   "metadata": {},
   "outputs": [
    {
     "data": {
      "image/png": "[encoded data removed]",
      "text/plain": [
       "<Figure size 432x288 with 1 Axes>"
      ]
     },
     "metadata": {
      "needs_background": "light"
     },
     "output_type": "display_data"
    }
   ],
   "source": [
    "plt.plot(model_output.history['loss'])\n",
    "plt.plot(model_output.history['val_loss'])\n",
    "plt.title('model_output loss')\n",
    "plt.ylabel('Loss')\n",
    "plt.xlabel('Epoch')\n",
    "plt.legend(['Train', 'Test'], loc='upper left')\n",
    "plt.show()"
   ]
  }
 ],
 "metadata": {
  "kernelspec": {
   "display_name": "Python 3",
   "language": "python",
   "name": "python3"
  },
  "language_info": {
   "codemirror_mode": {
    "name": "ipython",
    "version": 3
   },
   "file_extension": ".py",
   "mimetype": "text/x-python",
   "name": "python",
   "nbconvert_exporter": "python",
   "pygments_lexer": "ipython3",
   "version": "3.7.2"
  }
 },
 "nbformat": 4,
 "nbformat_minor": 2
}
